{
 "cells": [
  {
   "cell_type": "markdown",
   "metadata": {},
   "source": [
    "# WAR Ratings"
   ]
  },
  {
   "cell_type": "markdown",
   "metadata": {},
   "source": [
    "I used the formula and statistics provided by [FAN Graphs](https://library.fangraphs.com/misc/war/) "
   ]
  },
  {
   "cell_type": "markdown",
   "metadata": {},
   "source": [
    "* For Position Players\n",
    "\n",
    "<center>\n",
    "$  WAR = \\frac {Batting Runs + Base Running Runs +Fielding Runs + Positional Adjustment + League Adjustment +Replacement Runs} {Runs Per Win} \n",
    "$\n",
    "</center>\n",
    "\n",
    "* For Pitchers\n",
    "\n",
    "<center>\n",
    "$  WAR =  \\Big[ \\big( \\frac {League “FIP” – “FIP”} {Pitcher Specific Runs Per Win} + Replacement Level \\big) * \\frac{IP * Leverage Multiplier for Relievers }{9} \\Big] + League Correction\n",
    "$\n",
    "</center>"
   ]
  },
  {
   "cell_type": "markdown",
   "metadata": {},
   "source": [
    "## Reading in Data"
   ]
  },
  {
   "cell_type": "code",
   "execution_count": null,
   "metadata": {},
   "outputs": [],
   "source": [
    "import numpy as np\n",
    "import pandas as pd\n",
    "import matplotlib\n",
    "%matplotlib inline\n",
    "import matplotlib.pyplot as plt\n",
    "import matplotlib.image as mpimg\n",
    "import statsmodels.api as sm\n",
    "import statsmodels.formula.api as smf\n",
    "\n",
    "\n",
    "data =pd.read_csv(r\"C:\\Users\\Derek\\Desktop\\core\\batting.csv\")\n",
    "weights = pd.read_csv(r\"C:\\Users\\Derek\\Desktop\\STT490\\baseball\\weights.csv\")\n",
    "pf = pd.read_csv(r\"C:\\Users\\Derek\\Desktop\\STT490\\baseball\\park Factors.csv\")\n",
    "adv = pd.read_csv(r\"C:\\Users\\Derek\\Desktop\\STT490\\baseball\\advanced.csv\")\n",
    "wOBA = pd.read_csv(r\"C:\\Users\\Derek\\Desktop\\STT490\\baseball\\wOBA.csv\")\n",
    "field = pd.read_csv(r\"C:\\Users\\Derek\\Desktop\\core\\Fielding.csv\")\n",
    "teams = pd.read_csv(r\"C:\\Users\\Derek\\Desktop\\core\\teams.csv\")\n",
    "game = pd.read_csv(r\"C:\\Users\\Derek\\Desktop\\STT490\\baseball\\games.csv\")\n",
    "pit = pd.read_csv(r\"C:\\Users\\Derek\\Desktop\\core\\pitching.csv\")\n",
    "\n",
    "\n",
    "weights[name].fillna(0 ,inplace = True)\n",
    "data.fillna(0 ,inplace = True)\n",
    "field.fillna(0 ,inplace = True)"
   ]
  },
  {
   "cell_type": "markdown",
   "metadata": {},
   "source": [
    "Deleting before 1998 and Pitchers, the pitchers will be dealt with later."
   ]
  },
  {
   "cell_type": "code",
   "execution_count": 1,
   "metadata": {},
   "outputs": [
    {
     "name": "stderr",
     "output_type": "stream",
     "text": [
      "C:\\Users\\Derek\\Anaconda3\\lib\\site-packages\\statsmodels\\compat\\pandas.py:56: FutureWarning: The pandas.core.datetools module is deprecated and will be removed in a future version. Please use the pandas.tseries module instead.\n",
      "  from pandas.core import datetools\n"
     ]
    }
   ],
   "source": [
    "field = field.loc[field['yearID']>=1998] \n",
    "field = field.loc[field['POS'] != 'P'] \n",
    "data = data.loc[data['yearID']>=1998] "
   ]
  },
  {
   "cell_type": "markdown",
   "metadata": {
    "collapsed": true
   },
   "source": [
    "##  Batting Runs\n",
    "### Adding weights to all Batting Stats\n",
    "\n",
    "Adjusting weights to create better $r^2$, but it only brings down the value"
   ]
  },
  {
   "cell_type": "code",
   "execution_count": 2,
   "metadata": {
    "collapsed": true
   },
   "outputs": [],
   "source": [
    "weights['yearID']=weights['Season']\n",
    "\n",
    "weights['wHR']=weights['wHR']\n",
    "weights['w1B']=weights['w1B']\n",
    "weights['w2B']=weights['w2B']\n",
    "weights['w3B']=weights['w3B']\n",
    "weights['wOBA']=weights['wOBA']\n",
    "\n",
    "data1 = pd.merge(data, weights, on=['yearID'])"
   ]
  },
  {
   "cell_type": "markdown",
   "metadata": {
    "collapsed": true
   },
   "source": [
    "### Adding Player Positions"
   ]
  },
  {
   "cell_type": "code",
   "execution_count": null,
   "metadata": {},
   "outputs": [],
   "source": [
    "field1=field[['yearID','playerID','teamID','POS','ZR']]\n",
    "data1=pd.merge(data1,field1, on=['yearID','playerID','teamID'])"
   ]
  },
  {
   "cell_type": "markdown",
   "metadata": {
    "collapsed": true
   },
   "source": [
    "### Feature Engineering for Batting\n",
    "#### Plate Appearances"
   ]
  },
  {
   "cell_type": "code",
   "execution_count": null,
   "metadata": {},
   "outputs": [],
   "source": [
    "data1['PA']=data1['AB']+data1['BB']+data1['SF']+data1['SH']+data1['HBP']"
   ]
  },
  {
   "cell_type": "markdown",
   "metadata": {
    "collapsed": true
   },
   "source": [
    "#### Create singles"
   ]
  },
  {
   "cell_type": "code",
   "execution_count": 3,
   "metadata": {
    "collapsed": true
   },
   "outputs": [],
   "source": [
    "data1['1B']=(data1['H']-(data1['2B']+data1['3B']+data1['HR']))\n",
    "data1['lgwOBA']=data1['wOBA']\n",
    "data1=data1.drop(['wOBA'],axis=1)"
   ]
  },
  {
   "cell_type": "markdown",
   "metadata": {},
   "source": [
    "#### Get Season and league totals for PA and R"
   ]
  },
  {
   "cell_type": "code",
   "execution_count": 4,
   "metadata": {},
   "outputs": [
    {
     "data": {
      "text/html": [
       "<div>\n",
       "<style>\n",
       "    .dataframe thead tr:only-child th {\n",
       "        text-align: right;\n",
       "    }\n",
       "\n",
       "    .dataframe thead th {\n",
       "        text-align: left;\n",
       "    }\n",
       "\n",
       "    .dataframe tbody tr th {\n",
       "        vertical-align: top;\n",
       "    }\n",
       "</style>\n",
       "<table border=\"1\" class=\"dataframe\">\n",
       "  <thead>\n",
       "    <tr style=\"text-align: right;\">\n",
       "      <th></th>\n",
       "      <th>yearID</th>\n",
       "      <th>stint</th>\n",
       "      <th>G</th>\n",
       "      <th>AB</th>\n",
       "      <th>R</th>\n",
       "      <th>H</th>\n",
       "      <th>2B</th>\n",
       "      <th>3B</th>\n",
       "      <th>HR</th>\n",
       "      <th>RBI</th>\n",
       "      <th>...</th>\n",
       "      <th>runCS</th>\n",
       "      <th>R/PA</th>\n",
       "      <th>R/W</th>\n",
       "      <th>cFIP</th>\n",
       "      <th>ZR</th>\n",
       "      <th>PA</th>\n",
       "      <th>1B</th>\n",
       "      <th>lgwOBA</th>\n",
       "      <th>leagueR/PA</th>\n",
       "      <th>lgR/PA</th>\n",
       "    </tr>\n",
       "  </thead>\n",
       "  <tbody>\n",
       "    <tr>\n",
       "      <th>count</th>\n",
       "      <td>20452.000000</td>\n",
       "      <td>20452.00000</td>\n",
       "      <td>20452.000000</td>\n",
       "      <td>20452.000000</td>\n",
       "      <td>20452.000000</td>\n",
       "      <td>20452.000000</td>\n",
       "      <td>20452.000000</td>\n",
       "      <td>20452.000000</td>\n",
       "      <td>20452.000000</td>\n",
       "      <td>20452.000000</td>\n",
       "      <td>...</td>\n",
       "      <td>20452.000000</td>\n",
       "      <td>20452.000000</td>\n",
       "      <td>20452.000000</td>\n",
       "      <td>20452.000000</td>\n",
       "      <td>20452.000000</td>\n",
       "      <td>20452.000000</td>\n",
       "      <td>20452.000000</td>\n",
       "      <td>20452.000000</td>\n",
       "      <td>20452.000000</td>\n",
       "      <td>20452.000000</td>\n",
       "    </tr>\n",
       "    <tr>\n",
       "      <th>mean</th>\n",
       "      <td>2007.100773</td>\n",
       "      <td>1.08894</td>\n",
       "      <td>74.334002</td>\n",
       "      <td>227.215236</td>\n",
       "      <td>30.534129</td>\n",
       "      <td>59.819137</td>\n",
       "      <td>11.920986</td>\n",
       "      <td>1.268971</td>\n",
       "      <td>6.662771</td>\n",
       "      <td>28.734549</td>\n",
       "      <td>...</td>\n",
       "      <td>-0.418241</td>\n",
       "      <td>0.119696</td>\n",
       "      <td>9.952583</td>\n",
       "      <td>3.095059</td>\n",
       "      <td>0.004401</td>\n",
       "      <td>254.309945</td>\n",
       "      <td>39.966409</td>\n",
       "      <td>0.324955</td>\n",
       "      <td>0.119946</td>\n",
       "      <td>0.119980</td>\n",
       "    </tr>\n",
       "    <tr>\n",
       "      <th>std</th>\n",
       "      <td>5.517542</td>\n",
       "      <td>0.30650</td>\n",
       "      <td>48.830972</td>\n",
       "      <td>186.604309</td>\n",
       "      <td>28.981158</td>\n",
       "      <td>53.554051</td>\n",
       "      <td>11.400494</td>\n",
       "      <td>1.914042</td>\n",
       "      <td>8.687162</td>\n",
       "      <td>28.959870</td>\n",
       "      <td>...</td>\n",
       "      <td>0.022416</td>\n",
       "      <td>0.006327</td>\n",
       "      <td>0.453557</td>\n",
       "      <td>0.062391</td>\n",
       "      <td>0.113962</td>\n",
       "      <td>209.921155</td>\n",
       "      <td>35.603224</td>\n",
       "      <td>0.008755</td>\n",
       "      <td>0.006652</td>\n",
       "      <td>0.006262</td>\n",
       "    </tr>\n",
       "    <tr>\n",
       "      <th>min</th>\n",
       "      <td>1998.000000</td>\n",
       "      <td>1.00000</td>\n",
       "      <td>1.000000</td>\n",
       "      <td>0.000000</td>\n",
       "      <td>0.000000</td>\n",
       "      <td>0.000000</td>\n",
       "      <td>0.000000</td>\n",
       "      <td>0.000000</td>\n",
       "      <td>0.000000</td>\n",
       "      <td>0.000000</td>\n",
       "      <td>...</td>\n",
       "      <td>-0.460000</td>\n",
       "      <td>0.108000</td>\n",
       "      <td>9.117000</td>\n",
       "      <td>2.962000</td>\n",
       "      <td>0.000000</td>\n",
       "      <td>0.000000</td>\n",
       "      <td>0.000000</td>\n",
       "      <td>0.310000</td>\n",
       "      <td>0.106016</td>\n",
       "      <td>0.108491</td>\n",
       "    </tr>\n",
       "    <tr>\n",
       "      <th>25%</th>\n",
       "      <td>2002.000000</td>\n",
       "      <td>1.00000</td>\n",
       "      <td>30.000000</td>\n",
       "      <td>64.000000</td>\n",
       "      <td>7.000000</td>\n",
       "      <td>14.000000</td>\n",
       "      <td>2.000000</td>\n",
       "      <td>0.000000</td>\n",
       "      <td>1.000000</td>\n",
       "      <td>6.000000</td>\n",
       "      <td>...</td>\n",
       "      <td>-0.433000</td>\n",
       "      <td>0.114000</td>\n",
       "      <td>9.544000</td>\n",
       "      <td>3.048000</td>\n",
       "      <td>0.000000</td>\n",
       "      <td>71.000000</td>\n",
       "      <td>10.000000</td>\n",
       "      <td>0.316000</td>\n",
       "      <td>0.115948</td>\n",
       "      <td>0.113840</td>\n",
       "    </tr>\n",
       "    <tr>\n",
       "      <th>50%</th>\n",
       "      <td>2007.000000</td>\n",
       "      <td>1.00000</td>\n",
       "      <td>70.000000</td>\n",
       "      <td>178.000000</td>\n",
       "      <td>21.000000</td>\n",
       "      <td>44.000000</td>\n",
       "      <td>8.000000</td>\n",
       "      <td>1.000000</td>\n",
       "      <td>3.000000</td>\n",
       "      <td>19.000000</td>\n",
       "      <td>...</td>\n",
       "      <td>-0.420000</td>\n",
       "      <td>0.120000</td>\n",
       "      <td>9.994000</td>\n",
       "      <td>3.097000</td>\n",
       "      <td>0.000000</td>\n",
       "      <td>197.000000</td>\n",
       "      <td>30.000000</td>\n",
       "      <td>0.327000</td>\n",
       "      <td>0.120818</td>\n",
       "      <td>0.121655</td>\n",
       "    </tr>\n",
       "    <tr>\n",
       "      <th>75%</th>\n",
       "      <td>2012.000000</td>\n",
       "      <td>1.00000</td>\n",
       "      <td>116.000000</td>\n",
       "      <td>368.000000</td>\n",
       "      <td>47.000000</td>\n",
       "      <td>96.000000</td>\n",
       "      <td>19.000000</td>\n",
       "      <td>2.000000</td>\n",
       "      <td>9.000000</td>\n",
       "      <td>44.000000</td>\n",
       "      <td>...</td>\n",
       "      <td>-0.398000</td>\n",
       "      <td>0.124000</td>\n",
       "      <td>10.250000</td>\n",
       "      <td>3.134000</td>\n",
       "      <td>0.000000</td>\n",
       "      <td>412.000000</td>\n",
       "      <td>64.000000</td>\n",
       "      <td>0.331000</td>\n",
       "      <td>0.124615</td>\n",
       "      <td>0.123990</td>\n",
       "    </tr>\n",
       "    <tr>\n",
       "      <th>max</th>\n",
       "      <td>2016.000000</td>\n",
       "      <td>4.00000</td>\n",
       "      <td>163.000000</td>\n",
       "      <td>716.000000</td>\n",
       "      <td>152.000000</td>\n",
       "      <td>262.000000</td>\n",
       "      <td>59.000000</td>\n",
       "      <td>23.000000</td>\n",
       "      <td>73.000000</td>\n",
       "      <td>165.000000</td>\n",
       "      <td>...</td>\n",
       "      <td>-0.377000</td>\n",
       "      <td>0.131000</td>\n",
       "      <td>10.795000</td>\n",
       "      <td>3.240000</td>\n",
       "      <td>10.000000</td>\n",
       "      <td>778.000000</td>\n",
       "      <td>225.000000</td>\n",
       "      <td>0.341000</td>\n",
       "      <td>0.133804</td>\n",
       "      <td>0.131596</td>\n",
       "    </tr>\n",
       "  </tbody>\n",
       "</table>\n",
       "<p>8 rows × 38 columns</p>\n",
       "</div>"
      ],
      "text/plain": [
       "             yearID        stint             G            AB             R  \\\n",
       "count  20452.000000  20452.00000  20452.000000  20452.000000  20452.000000   \n",
       "mean    2007.100773      1.08894     74.334002    227.215236     30.534129   \n",
       "std        5.517542      0.30650     48.830972    186.604309     28.981158   \n",
       "min     1998.000000      1.00000      1.000000      0.000000      0.000000   \n",
       "25%     2002.000000      1.00000     30.000000     64.000000      7.000000   \n",
       "50%     2007.000000      1.00000     70.000000    178.000000     21.000000   \n",
       "75%     2012.000000      1.00000    116.000000    368.000000     47.000000   \n",
       "max     2016.000000      4.00000    163.000000    716.000000    152.000000   \n",
       "\n",
       "                  H            2B            3B            HR           RBI  \\\n",
       "count  20452.000000  20452.000000  20452.000000  20452.000000  20452.000000   \n",
       "mean      59.819137     11.920986      1.268971      6.662771     28.734549   \n",
       "std       53.554051     11.400494      1.914042      8.687162     28.959870   \n",
       "min        0.000000      0.000000      0.000000      0.000000      0.000000   \n",
       "25%       14.000000      2.000000      0.000000      1.000000      6.000000   \n",
       "50%       44.000000      8.000000      1.000000      3.000000     19.000000   \n",
       "75%       96.000000     19.000000      2.000000      9.000000     44.000000   \n",
       "max      262.000000     59.000000     23.000000     73.000000    165.000000   \n",
       "\n",
       "           ...              runCS          R/PA           R/W          cFIP  \\\n",
       "count      ...       20452.000000  20452.000000  20452.000000  20452.000000   \n",
       "mean       ...          -0.418241      0.119696      9.952583      3.095059   \n",
       "std        ...           0.022416      0.006327      0.453557      0.062391   \n",
       "min        ...          -0.460000      0.108000      9.117000      2.962000   \n",
       "25%        ...          -0.433000      0.114000      9.544000      3.048000   \n",
       "50%        ...          -0.420000      0.120000      9.994000      3.097000   \n",
       "75%        ...          -0.398000      0.124000     10.250000      3.134000   \n",
       "max        ...          -0.377000      0.131000     10.795000      3.240000   \n",
       "\n",
       "                 ZR            PA            1B        lgwOBA    leagueR/PA  \\\n",
       "count  20452.000000  20452.000000  20452.000000  20452.000000  20452.000000   \n",
       "mean       0.004401    254.309945     39.966409      0.324955      0.119946   \n",
       "std        0.113962    209.921155     35.603224      0.008755      0.006652   \n",
       "min        0.000000      0.000000      0.000000      0.310000      0.106016   \n",
       "25%        0.000000     71.000000     10.000000      0.316000      0.115948   \n",
       "50%        0.000000    197.000000     30.000000      0.327000      0.120818   \n",
       "75%        0.000000    412.000000     64.000000      0.331000      0.124615   \n",
       "max       10.000000    778.000000    225.000000      0.341000      0.133804   \n",
       "\n",
       "             lgR/PA  \n",
       "count  20452.000000  \n",
       "mean       0.119980  \n",
       "std        0.006262  \n",
       "min        0.108491  \n",
       "25%        0.113840  \n",
       "50%        0.121655  \n",
       "75%        0.123990  \n",
       "max        0.131596  \n",
       "\n",
       "[8 rows x 38 columns]"
      ]
     },
     "execution_count": 4,
     "metadata": {},
     "output_type": "execute_result"
    }
   ],
   "source": [
    "rpa=data1.groupby('yearID', as_index=False).agg({\"PA\":\"sum\",\"R\":\"sum\"})\n",
    "rpa1=data1.groupby(('yearID','lgID'), as_index=False).agg({\"PA\":\"sum\",\"R\":\"sum\"})\n",
    "\n",
    "rpa['lgR/PA']=rpa['R']/rpa['PA']\n",
    "rpa1['leagueR/PA']=rpa1['R']/rpa1['PA']\n",
    "\n",
    "rpa1=rpa1[['yearID','leagueR/PA','lgID']]\n",
    "rpa=rpa[['yearID','lgR/PA']]\n",
    "\n",
    "rpa=pd.merge(rpa1,rpa, on=['yearID'])\n",
    "data1=pd.merge(data1,rpa, on=['yearID','lgID'])\n",
    "data1.describe()"
   ]
  },
  {
   "cell_type": "markdown",
   "metadata": {},
   "source": [
    "#### wOBA(weighted on base average)"
   ]
  },
  {
   "cell_type": "code",
   "execution_count": null,
   "metadata": {},
   "outputs": [],
   "source": [
    "data1['wOBAtop'] = ((data1['wBB']*data1['BB'])+(data1['wHBP']*data1['HBP'])+(data1['w1B']*data1['1B'])+(data1['w2B']*data1['2B'])+(data1['w3B']*data1['3B'])+(data1['wHR']*data1['HR']))\n",
    "data1['wOBAdenom'] = ((data1['AB']+data1['BB']-data1['IBB']+data1['SF']+data1['HBP']))\n",
    "data1['wOBA'] = data1['wOBAtop'] /data1['wOBAdenom'] "
   ]
  },
  {
   "cell_type": "markdown",
   "metadata": {},
   "source": [
    "#### wRAA(runs above average) and wRC(total runs created)"
   ]
  },
  {
   "cell_type": "code",
   "execution_count": 5,
   "metadata": {},
   "outputs": [
    {
     "data": {
      "text/html": [
       "<div>\n",
       "<style>\n",
       "    .dataframe thead tr:only-child th {\n",
       "        text-align: right;\n",
       "    }\n",
       "\n",
       "    .dataframe thead th {\n",
       "        text-align: left;\n",
       "    }\n",
       "\n",
       "    .dataframe tbody tr th {\n",
       "        vertical-align: top;\n",
       "    }\n",
       "</style>\n",
       "<table border=\"1\" class=\"dataframe\">\n",
       "  <thead>\n",
       "    <tr style=\"text-align: right;\">\n",
       "      <th></th>\n",
       "      <th>yearID</th>\n",
       "      <th>stint</th>\n",
       "      <th>G</th>\n",
       "      <th>AB</th>\n",
       "      <th>R</th>\n",
       "      <th>H</th>\n",
       "      <th>2B</th>\n",
       "      <th>3B</th>\n",
       "      <th>HR</th>\n",
       "      <th>RBI</th>\n",
       "      <th>...</th>\n",
       "      <th>PA</th>\n",
       "      <th>1B</th>\n",
       "      <th>lgwOBA</th>\n",
       "      <th>leagueR/PA</th>\n",
       "      <th>lgR/PA</th>\n",
       "      <th>wOBAtop</th>\n",
       "      <th>wOBAdenom</th>\n",
       "      <th>wOBA</th>\n",
       "      <th>wRAA</th>\n",
       "      <th>wRC</th>\n",
       "    </tr>\n",
       "  </thead>\n",
       "  <tbody>\n",
       "    <tr>\n",
       "      <th>count</th>\n",
       "      <td>20452.000000</td>\n",
       "      <td>20452.00000</td>\n",
       "      <td>20452.000000</td>\n",
       "      <td>20452.000000</td>\n",
       "      <td>20452.000000</td>\n",
       "      <td>20452.000000</td>\n",
       "      <td>20452.000000</td>\n",
       "      <td>20452.000000</td>\n",
       "      <td>20452.000000</td>\n",
       "      <td>20452.000000</td>\n",
       "      <td>...</td>\n",
       "      <td>20452.000000</td>\n",
       "      <td>20452.000000</td>\n",
       "      <td>20452.000000</td>\n",
       "      <td>20452.000000</td>\n",
       "      <td>20452.000000</td>\n",
       "      <td>20452.000000</td>\n",
       "      <td>20452.000000</td>\n",
       "      <td>20452.000000</td>\n",
       "      <td>20452.000000</td>\n",
       "      <td>20452.000000</td>\n",
       "    </tr>\n",
       "    <tr>\n",
       "      <th>mean</th>\n",
       "      <td>2007.100773</td>\n",
       "      <td>1.08894</td>\n",
       "      <td>74.334002</td>\n",
       "      <td>227.215236</td>\n",
       "      <td>30.534129</td>\n",
       "      <td>59.819137</td>\n",
       "      <td>11.920986</td>\n",
       "      <td>1.268971</td>\n",
       "      <td>6.662771</td>\n",
       "      <td>28.734549</td>\n",
       "      <td>...</td>\n",
       "      <td>254.309945</td>\n",
       "      <td>39.966409</td>\n",
       "      <td>0.324955</td>\n",
       "      <td>0.119946</td>\n",
       "      <td>0.119980</td>\n",
       "      <td>82.830844</td>\n",
       "      <td>251.265695</td>\n",
       "      <td>0.299953</td>\n",
       "      <td>0.960331</td>\n",
       "      <td>31.422152</td>\n",
       "    </tr>\n",
       "    <tr>\n",
       "      <th>std</th>\n",
       "      <td>5.517542</td>\n",
       "      <td>0.30650</td>\n",
       "      <td>48.830972</td>\n",
       "      <td>186.604309</td>\n",
       "      <td>28.981158</td>\n",
       "      <td>53.554051</td>\n",
       "      <td>11.400494</td>\n",
       "      <td>1.914042</td>\n",
       "      <td>8.687162</td>\n",
       "      <td>28.959870</td>\n",
       "      <td>...</td>\n",
       "      <td>209.921155</td>\n",
       "      <td>35.603224</td>\n",
       "      <td>0.008755</td>\n",
       "      <td>0.006652</td>\n",
       "      <td>0.006262</td>\n",
       "      <td>75.522591</td>\n",
       "      <td>207.571868</td>\n",
       "      <td>0.082697</td>\n",
       "      <td>12.518419</td>\n",
       "      <td>32.906105</td>\n",
       "    </tr>\n",
       "    <tr>\n",
       "      <th>min</th>\n",
       "      <td>1998.000000</td>\n",
       "      <td>1.00000</td>\n",
       "      <td>1.000000</td>\n",
       "      <td>0.000000</td>\n",
       "      <td>0.000000</td>\n",
       "      <td>0.000000</td>\n",
       "      <td>0.000000</td>\n",
       "      <td>0.000000</td>\n",
       "      <td>0.000000</td>\n",
       "      <td>0.000000</td>\n",
       "      <td>...</td>\n",
       "      <td>0.000000</td>\n",
       "      <td>0.000000</td>\n",
       "      <td>0.310000</td>\n",
       "      <td>0.106016</td>\n",
       "      <td>0.108491</td>\n",
       "      <td>0.000000</td>\n",
       "      <td>0.000000</td>\n",
       "      <td>0.000000</td>\n",
       "      <td>-39.018790</td>\n",
       "      <td>-4.101322</td>\n",
       "    </tr>\n",
       "    <tr>\n",
       "      <th>25%</th>\n",
       "      <td>2002.000000</td>\n",
       "      <td>1.00000</td>\n",
       "      <td>30.000000</td>\n",
       "      <td>64.000000</td>\n",
       "      <td>7.000000</td>\n",
       "      <td>14.000000</td>\n",
       "      <td>2.000000</td>\n",
       "      <td>0.000000</td>\n",
       "      <td>1.000000</td>\n",
       "      <td>6.000000</td>\n",
       "      <td>...</td>\n",
       "      <td>71.000000</td>\n",
       "      <td>10.000000</td>\n",
       "      <td>0.316000</td>\n",
       "      <td>0.115948</td>\n",
       "      <td>0.113840</td>\n",
       "      <td>19.041250</td>\n",
       "      <td>70.000000</td>\n",
       "      <td>0.268003</td>\n",
       "      <td>-5.156654</td>\n",
       "      <td>5.232442</td>\n",
       "    </tr>\n",
       "    <tr>\n",
       "      <th>50%</th>\n",
       "      <td>2007.000000</td>\n",
       "      <td>1.00000</td>\n",
       "      <td>70.000000</td>\n",
       "      <td>178.000000</td>\n",
       "      <td>21.000000</td>\n",
       "      <td>44.000000</td>\n",
       "      <td>8.000000</td>\n",
       "      <td>1.000000</td>\n",
       "      <td>3.000000</td>\n",
       "      <td>19.000000</td>\n",
       "      <td>...</td>\n",
       "      <td>197.000000</td>\n",
       "      <td>30.000000</td>\n",
       "      <td>0.327000</td>\n",
       "      <td>0.120818</td>\n",
       "      <td>0.121655</td>\n",
       "      <td>59.443000</td>\n",
       "      <td>195.000000</td>\n",
       "      <td>0.308731</td>\n",
       "      <td>-1.349366</td>\n",
       "      <td>19.839066</td>\n",
       "    </tr>\n",
       "    <tr>\n",
       "      <th>75%</th>\n",
       "      <td>2012.000000</td>\n",
       "      <td>1.00000</td>\n",
       "      <td>116.000000</td>\n",
       "      <td>368.000000</td>\n",
       "      <td>47.000000</td>\n",
       "      <td>96.000000</td>\n",
       "      <td>19.000000</td>\n",
       "      <td>2.000000</td>\n",
       "      <td>9.000000</td>\n",
       "      <td>44.000000</td>\n",
       "      <td>...</td>\n",
       "      <td>412.000000</td>\n",
       "      <td>64.000000</td>\n",
       "      <td>0.331000</td>\n",
       "      <td>0.124615</td>\n",
       "      <td>0.123990</td>\n",
       "      <td>131.401000</td>\n",
       "      <td>407.000000</td>\n",
       "      <td>0.343747</td>\n",
       "      <td>3.062379</td>\n",
       "      <td>49.015638</td>\n",
       "    </tr>\n",
       "    <tr>\n",
       "      <th>max</th>\n",
       "      <td>2016.000000</td>\n",
       "      <td>4.00000</td>\n",
       "      <td>163.000000</td>\n",
       "      <td>716.000000</td>\n",
       "      <td>152.000000</td>\n",
       "      <td>262.000000</td>\n",
       "      <td>59.000000</td>\n",
       "      <td>23.000000</td>\n",
       "      <td>73.000000</td>\n",
       "      <td>165.000000</td>\n",
       "      <td>...</td>\n",
       "      <td>778.000000</td>\n",
       "      <td>225.000000</td>\n",
       "      <td>0.341000</td>\n",
       "      <td>0.133804</td>\n",
       "      <td>0.131596</td>\n",
       "      <td>362.220000</td>\n",
       "      <td>773.000000</td>\n",
       "      <td>2.017000</td>\n",
       "      <td>197.326165</td>\n",
       "      <td>273.834165</td>\n",
       "    </tr>\n",
       "  </tbody>\n",
       "</table>\n",
       "<p>8 rows × 43 columns</p>\n",
       "</div>"
      ],
      "text/plain": [
       "             yearID        stint             G            AB             R  \\\n",
       "count  20452.000000  20452.00000  20452.000000  20452.000000  20452.000000   \n",
       "mean    2007.100773      1.08894     74.334002    227.215236     30.534129   \n",
       "std        5.517542      0.30650     48.830972    186.604309     28.981158   \n",
       "min     1998.000000      1.00000      1.000000      0.000000      0.000000   \n",
       "25%     2002.000000      1.00000     30.000000     64.000000      7.000000   \n",
       "50%     2007.000000      1.00000     70.000000    178.000000     21.000000   \n",
       "75%     2012.000000      1.00000    116.000000    368.000000     47.000000   \n",
       "max     2016.000000      4.00000    163.000000    716.000000    152.000000   \n",
       "\n",
       "                  H            2B            3B            HR           RBI  \\\n",
       "count  20452.000000  20452.000000  20452.000000  20452.000000  20452.000000   \n",
       "mean      59.819137     11.920986      1.268971      6.662771     28.734549   \n",
       "std       53.554051     11.400494      1.914042      8.687162     28.959870   \n",
       "min        0.000000      0.000000      0.000000      0.000000      0.000000   \n",
       "25%       14.000000      2.000000      0.000000      1.000000      6.000000   \n",
       "50%       44.000000      8.000000      1.000000      3.000000     19.000000   \n",
       "75%       96.000000     19.000000      2.000000      9.000000     44.000000   \n",
       "max      262.000000     59.000000     23.000000     73.000000    165.000000   \n",
       "\n",
       "           ...                 PA            1B        lgwOBA    leagueR/PA  \\\n",
       "count      ...       20452.000000  20452.000000  20452.000000  20452.000000   \n",
       "mean       ...         254.309945     39.966409      0.324955      0.119946   \n",
       "std        ...         209.921155     35.603224      0.008755      0.006652   \n",
       "min        ...           0.000000      0.000000      0.310000      0.106016   \n",
       "25%        ...          71.000000     10.000000      0.316000      0.115948   \n",
       "50%        ...         197.000000     30.000000      0.327000      0.120818   \n",
       "75%        ...         412.000000     64.000000      0.331000      0.124615   \n",
       "max        ...         778.000000    225.000000      0.341000      0.133804   \n",
       "\n",
       "             lgR/PA       wOBAtop     wOBAdenom          wOBA          wRAA  \\\n",
       "count  20452.000000  20452.000000  20452.000000  20452.000000  20452.000000   \n",
       "mean       0.119980     82.830844    251.265695      0.299953      0.960331   \n",
       "std        0.006262     75.522591    207.571868      0.082697     12.518419   \n",
       "min        0.108491      0.000000      0.000000      0.000000    -39.018790   \n",
       "25%        0.113840     19.041250     70.000000      0.268003     -5.156654   \n",
       "50%        0.121655     59.443000    195.000000      0.308731     -1.349366   \n",
       "75%        0.123990    131.401000    407.000000      0.343747      3.062379   \n",
       "max        0.131596    362.220000    773.000000      2.017000    197.326165   \n",
       "\n",
       "                wRC  \n",
       "count  20452.000000  \n",
       "mean      31.422152  \n",
       "std       32.906105  \n",
       "min       -4.101322  \n",
       "25%        5.232442  \n",
       "50%       19.839066  \n",
       "75%       49.015638  \n",
       "max      273.834165  \n",
       "\n",
       "[8 rows x 43 columns]"
      ]
     },
     "execution_count": 5,
     "metadata": {},
     "output_type": "execute_result"
    }
   ],
   "source": [
    "data1['wRAA'] = ((data1['wOBA']-data1['lgwOBA'])/data1['wOBAScale'])*data1['PA']\n",
    "data1.fillna(0 ,inplace = True)\n",
    "data1['wRC'] = ((((data1['wOBA']-data1['lgwOBA'])/data1['wOBAScale'])+data1['R/PA'])*data1['PA'])\n",
    "data1.describe()"
   ]
  },
  {
   "cell_type": "markdown",
   "metadata": {
    "collapsed": true
   },
   "source": [
    "#### Park Adjustments\n",
    " renaming variables per team and per season"
   ]
  },
  {
   "cell_type": "code",
   "execution_count": null,
   "metadata": {},
   "outputs": [],
   "source": [
    "pf['teamID'] = pf['Team'].replace({'Angels': 'LAA', 'Astros': 'HOU', 'Athletics': 'OAK', 'Blue Jays': 'TOR', 'Braves':'ATL', 'Brewers':'MIL','Cardinals':'SLN','Cubs' :'CHN','Devil Rays' :'TBA', 'Diamondbacks' :'ARI',\n",
    "                    'Dodgers':'LAN','Expos':'MON','Giants':'SFN','Indians':'CLE','Mariners':'SEA','Marlins':'FLO','Mets':'NYN','Nationals':'WAS','Orioles':'BAL','Padres':'SDN','Phillies':'PHI','Pirates':'PIT',\n",
    "                    'Rangers':'Tex','Rays':'TBA','Red Sox':'BOS','Reds':'CIN','Rockies':'COL','Royals':'KCA','Tigers':'DET','Twins':'MIN','White Sox':'CHA','Yankees':'NYA'})\n",
    "pf['yearID'] = pf['Season']\n",
    "\n",
    "pf1 = pf[['yearID','teamID','Basic']]\n",
    "data2 = pd.merge(data1,pf1, on=['yearID','teamID'])"
   ]
  },
  {
   "cell_type": "markdown",
   "metadata": {
    "collapsed": true
   },
   "source": [
    "#### League At Bats"
   ]
  },
  {
   "cell_type": "code",
   "execution_count": null,
   "metadata": {},
   "outputs": [],
   "source": [
    "dummy=data2.groupby('yearID', as_index=False).agg({\"PA\": \"sum\",\"wRC\":\"sum\"})\n",
    "dummy['lgPA']=dummy['PA']\n",
    "dummy['lgwRC']=dummy['wRC']\n",
    "dummy=dummy[['yearID','lgPA','lgwRC']]\n",
    "data2 = pd.merge(data2,dummy, on=['yearID'])\n",
    "\n",
    "data2['PF'] = data2['Basic']*.01\n",
    "data2['wRC/PA'] = ((((data2['wRAA']/data2['PA'])+data2['lgR/PA'])+(data2['lgR/PA']-(data2['PF']*data2['lgR/PA'])))/(data2['lgwRC']/data2['lgPA']))\n",
    "data2.fillna(0 ,inplace = True)"
   ]
  },
  {
   "cell_type": "markdown",
   "metadata": {
    "collapsed": true
   },
   "source": [
    "### Finally, Batting Runs"
   ]
  },
  {
   "cell_type": "code",
   "execution_count": 6,
   "metadata": {
    "collapsed": true
   },
   "outputs": [],
   "source": [
    "data2['Bat_Run'] = ((data2['wRAA']+((data2['lgR/PA']-(data2['PF']*data2['lgR/PA']))*data2['PA']))+((data2['lgR/PA']-(data2['leagueR/PA']))*data2['PA']))"
   ]
  },
  {
   "cell_type": "markdown",
   "metadata": {
    "collapsed": true
   },
   "source": [
    "## Base Running\n",
    "\n",
    "### Feature Engineering for Base Running Runs\n",
    "#### Creating league stats"
   ]
  },
  {
   "cell_type": "code",
   "execution_count": null,
   "metadata": {},
   "outputs": [],
   "source": [
    "data2['outs']=data2['PA']-data2['H']\n",
    "run=data2.groupby('yearID', as_index=False).agg({\"R\": \"sum\",\"outs\":\"sum\",\"SB\":\"sum\",\"1B\":\"sum\",\"BB\":\"sum\",\"IBB\":\"sum\",\"CS\":\"sum\",\"HBP\":\"sum\"})\n",
    "run['lgouts']=run['outs']\n",
    "run['lgR']=run['R']\n",
    "run['lg1B']=run['1B']\n",
    "run['lgBB']=run['BB']\n",
    "run['lgIBB']=run['IBB']\n",
    "run['lgHBP']=run['HBP']\n",
    "run['lgSB']=run['SB']\n",
    "run['lgCS']=run['CS']\n",
    "run=run[['yearID','lgouts','lgCS','lgR','lg1B','lgBB','lgIBB','lgSB','lgHBP']]"
   ]
  },
  {
   "cell_type": "markdown",
   "metadata": {
    "collapsed": true
   },
   "source": [
    "#### Creating wSB(weighted Stolen Bases) and league wSB"
   ]
  },
  {
   "cell_type": "code",
   "execution_count": 7,
   "metadata": {
    "collapsed": true
   },
   "outputs": [],
   "source": [
    "data3=pd.merge(data2,run, on=['yearID'])\n",
    "data3['rpo']=data3['R']/data3['outs']\n",
    "data3.fillna(0 ,inplace = True)\n",
    "data3['runCS']=2*data3['rpo']+0.075\n",
    "data3['lgwSB']=(data3['lgSB']*data3['runSB']+data3['lgCS'])/(data3['lg1B']+data3['lgBB']+data3['lgHBP']-data3['lgIBB'])\n",
    "data3['wSB']=data3['SB']*data3['runSB']+data3['CS']*data3['runCS']/data3['lgSB']*(data3['1B']+data3['BB']+data3['HBP']-data3['IBB'])"
   ]
  },
  {
   "cell_type": "markdown",
   "metadata": {
    "collapsed": true
   },
   "source": [
    "#### Getting wGDP(weighted Ground Double Plays)"
   ]
  },
  {
   "cell_type": "code",
   "execution_count": null,
   "metadata": {},
   "outputs": [],
   "source": [
    "wOBA['yearID']=wOBA['Season']\n",
    "wOBA=wOBA[['yearID','wGDP']]\n",
    "data4=pd.merge(data3,wOBA, on=['yearID'])\n",
    "data4.fillna(0 ,inplace = True)"
   ]
  },
  {
   "cell_type": "markdown",
   "metadata": {
    "collapsed": true
   },
   "source": [
    "I don't have UBR so left it out\n",
    " + data3['UBR']"
   ]
  },
  {
   "cell_type": "markdown",
   "metadata": {},
   "source": [
    "### Base Running Runs"
   ]
  },
  {
   "cell_type": "code",
   "execution_count": 8,
   "metadata": {
    "collapsed": true
   },
   "outputs": [],
   "source": [
    "data4['Base_Run']=(data4['wSB']+data4['wGDP'])"
   ]
  },
  {
   "cell_type": "markdown",
   "metadata": {
    "collapsed": true
   },
   "source": [
    "## Fielding Runs\n",
    "\n",
    "Missing The data\n",
    "\n",
    "## Positional Adjustment"
   ]
  },
  {
   "cell_type": "code",
   "execution_count": 9,
   "metadata": {
    "collapsed": true
   },
   "outputs": [],
   "source": [
    "data4['ADJ']=0\n",
    "data4.loc[data4.POS == 'C', 'ADJ'] = 12.5 \n",
    "data4.loc[data4.POS == '1B', 'ADJ'] = -12.5 \n",
    "data4.loc[data4.POS == '2B', 'ADJ'] = 2.5 \n",
    "data4.loc[data4.POS == '3B', 'ADJ'] = 2.5 \n",
    "data4.loc[data4.POS == 'SS', 'ADJ'] = 7.5 \n",
    "data4.loc[data4.POS == 'OF', 'ADJ'] = -7.5 "
   ]
  },
  {
   "cell_type": "markdown",
   "metadata": {
    "collapsed": true
   },
   "source": [
    "## League Adjustment"
   ]
  },
  {
   "cell_type": "code",
   "execution_count": 10,
   "metadata": {
    "collapsed": true
   },
   "outputs": [],
   "source": [
    "lg=data4.groupby(['lgID','yearID'], as_index=False).agg({\"Bat_Run\": \"mean\",\"Base_Run\":\"mean\",###\"Field_Runs\":\"sum\",\n",
    "                                                           \"ADJ\":\"mean\",\"PA\":\"sum\"}).copy()\n",
    "\n",
    "lg['lgADJ']=((-1*(lg['Bat_Run']+lg['Base_Run']###lg['Field_Run']\n",
    "                      +lg['ADJ'])/lg['PA'])*lg['PA'] )        \n",
    "lg.columns=['lgID','yearID','lgBat_Run','lgBase_Run','meanADJ','lgPA','lgADJ']\n",
    "lg=lg[['lgID','yearID','lgBat_Run','lgBase_Run','meanADJ','lgADJ']]"
   ]
  },
  {
   "cell_type": "code",
   "execution_count": null,
   "metadata": {},
   "outputs": [],
   "source": [
    "data4=pd.merge(data4,lg, on=['yearID','lgID'])\n",
    "data4.describe()"
   ]
  },
  {
   "cell_type": "markdown",
   "metadata": {
    "collapsed": true
   },
   "source": [
    "## Runs per Win"
   ]
  },
  {
   "cell_type": "code",
   "execution_count": null,
   "metadata": {},
   "outputs": [],
   "source": [
    "game['yearID']=game['Season']\n",
    "game=game[['yearID','Inn']]\n",
    "data4=pd.merge(data4,game, on=['yearID'])\n",
    "\n",
    "data4['RPW']=(9*(data4['lgR']/data4['Inn'])*1.5+3)"
   ]
  },
  {
   "cell_type": "markdown",
   "metadata": {
    "collapsed": true
   },
   "source": [
    "## Replacement level runs"
   ]
  },
  {
   "cell_type": "code",
   "execution_count": 11,
   "metadata": {
    "collapsed": true
   },
   "outputs": [],
   "source": [
    "data4['RLR'] = ((570*(data4['G']/2430)))*((data4['RPW']/data4['lgPA']))*data4['PA']"
   ]
  },
  {
   "cell_type": "markdown",
   "metadata": {},
   "source": [
    "## Positional Player WAR"
   ]
  },
  {
   "cell_type": "code",
   "execution_count": 12,
   "metadata": {},
   "outputs": [
    {
     "name": "stdout",
     "output_type": "stream",
     "text": [
      "        playerID teamID  yearID lgID     Bat_Run  Base_Run   ADJ     lgADJ  \\\n",
      "6035   bondsba01    SFN    2004   NL  199.868310  0.832393  -7.5 -1.362498   \n",
      "4674   bondsba01    SFN    2002   NL  158.804074  1.465042  -7.5 -1.469285   \n",
      "3629   bondsba01    SFN    2001   NL  143.598609  2.684905  -7.5 -1.234784   \n",
      "5431   bondsba01    SFN    2003   NL  124.025702  0.900000  -7.5 -0.165454   \n",
      "4002    sosasa01    CHN    2001   NL  108.344499  0.052673  -7.5 -1.234784   \n",
      "887    mcgwima01    SLN    1998   NL  111.462510  0.200000 -12.5 -0.497444   \n",
      "10208  pujolal01    SLN    2008   NL   93.205705  0.670744   2.5 -0.762070   \n",
      "11644  pujolal01    SLN    2009   NL  100.971071  3.596301 -12.5 -1.722510   \n",
      "1840   jonesch06    ATL    1999   NL   77.456590  5.068238   7.5 -1.442841   \n",
      "1839   jonesch06    ATL    1999   NL   77.456590  5.068238   2.5 -1.442841   \n",
      "15889  cabremi01    DET    2013   AL   79.847489 -0.500000   2.5  1.211366   \n",
      "3047   giambja01    OAK    2001   AL   94.374604  0.400000 -12.5 -0.036230   \n",
      "7183   rodrial01    NYA    2005   AL   69.256034  4.185927   7.5  0.890744   \n",
      "3720   gonzalu01    ARI    2001   NL   89.646511  0.225469  -7.5 -1.234784   \n",
      "9548   rodrial01    NYA    2007   AL   72.599497  5.826507   2.5 -0.048254   \n",
      "727    bondsba01    SFN    1998   NL   82.841401  5.877249  -7.5 -0.497444   \n",
      "10207  pujolal01    SLN    2008   NL   93.205705  0.670744 -12.5 -0.762070   \n",
      "13222  bautijo02    TOR    2011   AL   75.282707  1.908624   2.5  0.633371   \n",
      "18193  harpebr03    WAS    2015   NL   86.668921  1.339793  -7.5 -1.008419   \n",
      "5911   pujolal01    SLN    2003   NL   86.425732  0.538198  -7.5 -0.165454   \n",
      "2224   delgaca01    TOR    2000   AL   89.001070  0.029180 -12.5  1.248166   \n",
      "16959  martivi01    DET    2014   AL   63.761310  0.542387  12.5  0.551357   \n",
      "7182   rodrial01    NYA    2005   AL   69.256034  4.185927   2.5  0.890744   \n",
      "11433  mauerjo01    MIN    2009   AL   62.016204  1.125834  12.5 -0.132552   \n",
      "3481   jonesch06    ATL    2001   NL   71.890287  2.052139   2.5 -1.234784   \n",
      "5910   pujolal01    SLN    2003   NL   86.425732  0.538198 -12.5 -0.165454   \n",
      "2644   bondsba01    SFN    2000   NL   79.566665  2.280652  -7.5 -0.704503   \n",
      "1724   bagweje01    HOU    1999   NL   80.385312  6.329095 -12.5 -1.442841   \n",
      "1297   jeterde01    NYA    1999   AL   60.763789  4.049593   7.5  0.230525   \n",
      "4645   gilesbr02    PIT    2002   NL   78.643024  2.737051  -7.5 -1.469285   \n",
      "...          ...    ...     ...  ...         ...       ...   ...       ...   \n",
      "11820  taverwi01    CIN    2009   NL  -27.072377  5.362388  -7.5 -1.722510   \n",
      "14750  barmecl01    PIT    2012   NL  -17.268533 -0.288074 -12.5 -0.992408   \n",
      "3934   castrju01    CIN    2001   NL  -17.341671  0.000000 -12.5 -1.234784   \n",
      "12889  felizpe01    HOU    2010   NL  -17.972645 -1.296324 -12.5  0.545919   \n",
      "15798  keppije01    CHA    2013   AL  -18.924070 -1.090618 -12.5  1.211366   \n",
      "10324  patteco01    CIN    2008   NL  -25.173667  2.052333  -7.5 -0.762070   \n",
      "7799   patteco01    CHN    2005   NL  -25.270319  2.836387  -7.5 -1.483695   \n",
      "6595    blumge01    TBA    2004   AL  -19.622428  0.019555 -12.5  0.699699   \n",
      "4380   paquecr01    DET    2002   AL  -20.766037 -0.200000 -12.5  1.991224   \n",
      "1410   lewisda01    BOS    1999   AL  -27.577727  3.312061  -7.5  0.230525   \n",
      "11149  lairdge01    DET    2009   AL  -20.445959  1.300000 -12.5 -0.132552   \n",
      "4108   perezne01    KCA    2002   AL  -42.704710  1.306369   7.5  1.991224   \n",
      "1770   berryse01    MIL    1999   NL  -18.281810  0.000000 -12.5 -1.442841   \n",
      "19019  norride01    SDN    2016   NL  -20.028611  1.113678 -12.5 -1.039505   \n",
      "1265   huntebr02    SEA    1999   AL  -34.824692  8.855783  -7.5  0.230525   \n",
      "8180   barmecl01    COL    2006   NL  -35.876627 -0.368844   2.5  0.000107   \n",
      "1552   gaettga01    CHN    1999   NL  -20.127898  0.003267 -12.5 -1.442841   \n",
      "2865   grissma02    MIL    2000   NL  -30.367471  4.131902  -7.5 -0.704503   \n",
      "3787   bergepe01    MON    2001   NL  -27.787499  2.060904  -7.5 -1.234784   \n",
      "619    strando01    PIT    1998   NL  -21.796086  0.200000 -12.5 -0.497444   \n",
      "13322   dunnad01    CHA    2011   AL  -22.965352  0.006278 -12.5  0.633371   \n",
      "3911   mathemi01    SLN    2001   NL  -21.504248  0.006840 -12.5 -1.234784   \n",
      "8729   perezto03    TBA    2006   AL  -23.922977 -1.200000 -12.5  1.854685   \n",
      "17528  riverre01    TBA    2015   AL  -24.606417  0.000000 -12.5  1.181819   \n",
      "8254   ausmubr01    HOU    2006   NL  -23.283119 -0.791628 -12.5  0.000107   \n",
      "4107   perezne01    KCA    2002   AL  -42.704710  1.306369   2.5  1.991224   \n",
      "8405   molinya01    SLN    2006   NL  -23.397058 -1.189746 -12.5  0.000107   \n",
      "2494   jordake01    PHI    2000   NL  -25.799425  0.005092 -12.5 -0.704503   \n",
      "12046   woodbr01    LAA    2010   AL  -27.738419 -1.300000 -12.5  1.965674   \n",
      "1974   marreel01    SLN    1999   NL  -29.262151  2.207235 -12.5 -1.442841   \n",
      "\n",
      "            RLR       RPW        WAR  \n",
      "6035   0.337634  4.102030  19.192051  \n",
      "4674   0.331123  4.047494  15.138164  \n",
      "3629   0.384713  4.091162  13.764277  \n",
      "5431   0.272413  4.058879  11.732736  \n",
      "4002   0.430792  4.091162   9.976769  \n",
      "887    0.402835  4.063002   9.876421  \n",
      "10208  0.339626  4.137100   9.569647  \n",
      "11644  0.409911  4.095362   9.044495  \n",
      "1840   0.416807  4.156224   8.868227  \n",
      "1839   0.416807  4.156224   8.368227  \n",
      "15889  0.349416  3.970132   8.314687  \n",
      "3047   0.391310  4.091162   8.233402  \n",
      "7183   0.426516  4.079609   8.193725  \n",
      "3720   0.446606  4.091162   8.124636  \n",
      "9548   0.406905  4.128549   8.097631  \n",
      "727    0.414960  4.063002   8.082334  \n",
      "10207  0.339626  4.137100   8.069647  \n",
      "13222  0.348272  4.025321   8.041122  \n",
      "18193  0.361052  4.018818   7.959014  \n",
      "5911   0.409744  4.058879   7.939943  \n",
      "2224   0.446361  4.140080   7.788623  \n",
      "16959  0.355634  3.940302   7.744531  \n",
      "7182   0.426516  4.079609   7.693725  \n",
      "11433  0.306072  4.095362   7.558422  \n",
      "3481   0.407628  4.091162   7.530728  \n",
      "5910   0.409744  4.058879   7.439943  \n",
      "2644   0.336377  4.140080   7.372406  \n",
      "1724   0.447259  4.156224   7.287918  \n",
      "1297   0.442200  4.156224   7.265030  \n",
      "4645   0.372803  4.047494   7.250290  \n",
      "...         ...       ...        ...  \n",
      "11820  0.163137  4.095362  -3.089266  \n",
      "14750  0.258694  4.017383  -3.098462  \n",
      "3934   0.094883  4.091162  -3.105326  \n",
      "12889  0.107259  4.040137  -3.119650  \n",
      "15798  0.190648  3.970132  -3.125530  \n",
      "10324  0.189453  4.137100  -3.133761  \n",
      "7799   0.223167  4.079609  -3.136292  \n",
      "6595   0.153847  4.102030  -3.136567  \n",
      "4380   0.072463  4.047494  -3.145691  \n",
      "1410   0.275063  4.156224  -3.146896  \n",
      "11149  0.235680  4.095362  -3.172096  \n",
      "4108   0.320942  4.047494  -3.182782  \n",
      "1770   0.112805  4.156224  -3.219751  \n",
      "19019  0.204052  4.119882  -3.240491  \n",
      "1265   0.241498  4.156224  -3.318028  \n",
      "8180   0.256847  4.162224  -3.368366  \n",
      "1552   0.131809  4.156224  -3.403576  \n",
      "2865   0.362105  4.140080  -3.435261  \n",
      "3787   0.160684  4.091162  -3.442210  \n",
      "619    0.069038  4.063002  -3.457654  \n",
      "13322  0.215940  4.025321  -3.477206  \n",
      "3911   0.194280  4.091162  -3.518470  \n",
      "8729   0.092155  4.162224  -3.574615  \n",
      "17528  0.126615  4.018818  -3.589309  \n",
      "8254   0.255722  4.162224  -3.651320  \n",
      "4107   0.320942  4.047494  -3.682782  \n",
      "8405   0.217942  4.162224  -3.703434  \n",
      "2494   0.151221  4.140080  -3.896231  \n",
      "12046  0.071595  4.040137  -3.955502  \n",
      "1974   0.148087  4.156224  -4.096213  \n",
      "\n",
      "[19320 rows x 11 columns]\n"
     ]
    }
   ],
   "source": [
    "data4['WAR'] = (data4['Bat_Run']+data4['Base_Run']+data4['ZR']+data4['ADJ']+data4['lgADJ']+data4['RLR']\n",
    "             / data4['RPW'])/10\n",
    "WAR=data4[['playerID','teamID','yearID','lgID','Bat_Run','Base_Run','ADJ','lgADJ','RLR','RPW','WAR']]\n",
    "WAR = WAR.sort_values(by= ['WAR'], ascending=False)\n",
    "print(WAR)"
   ]
  },
  {
   "cell_type": "markdown",
   "metadata": {},
   "source": [
    "## Regression based off of Position Player WAR"
   ]
  },
  {
   "cell_type": "code",
   "execution_count": 13,
   "metadata": {},
   "outputs": [
    {
     "name": "stdout",
     "output_type": "stream",
     "text": [
      "                            OLS Regression Results                            \n",
      "==============================================================================\n",
      "Dep. Variable:                      W   R-squared:                       0.367\n",
      "Model:                            OLS   Adj. R-squared:                  0.365\n",
      "Method:                 Least Squares   F-statistic:                     310.9\n",
      "Date:                Thu, 12 Apr 2018   Prob (F-statistic):           3.15e-55\n",
      "Time:                        12:23:53   Log-Likelihood:                -1963.1\n",
      "No. Observations:                 539   AIC:                             3930.\n",
      "Df Residuals:                     537   BIC:                             3939.\n",
      "Df Model:                           1                                         \n",
      "Covariance Type:            nonrobust                                         \n",
      "==============================================================================\n",
      "                 coef    std err          t      P>|t|      [0.025      0.975]\n",
      "------------------------------------------------------------------------------\n",
      "Intercept     80.8785      0.399    202.893      0.000      80.095      81.662\n",
      "WAR            0.6670      0.038     17.631      0.000       0.593       0.741\n",
      "==============================================================================\n",
      "Omnibus:                        5.623   Durbin-Watson:                   2.152\n",
      "Prob(Omnibus):                  0.060   Jarque-Bera (JB):                4.402\n",
      "Skew:                          -0.113   Prob(JB):                        0.111\n",
      "Kurtosis:                       2.620   Cond. No.                         10.5\n",
      "==============================================================================\n",
      "\n",
      "Warnings:\n",
      "[1] Standard Errors assume that the covariance matrix of the errors is correctly specified.\n"
     ]
    },
    {
     "data": {
      "image/png": "[encoded data removed]",
      "text/plain": [
       "<matplotlib.figure.Figure at 0x154df9c52e8>"
      ]
     },
     "metadata": {},
     "output_type": "display_data"
    }
   ],
   "source": [
    "dat = WAR.groupby(('yearID','teamID'), as_index=False).agg({\"WAR\":\"sum\",})\n",
    "teams = teams[['yearID','teamID','lgID','W','L','divID']]\n",
    "\n",
    "regr = pd.merge(dat, teams, on=['yearID','teamID'])\n",
    "model = smf.ols(formula='W ~ WAR' ,data=regr).fit()\n",
    "print(model.summary())\n",
    "x=\"WAR\"\n",
    "y=\"W\"\n",
    "regr.plot(kind = \"scatter\", x=x, y=y)\n",
    "type(plt)\n",
    "plt.show()\n"
   ]
  },
  {
   "cell_type": "markdown",
   "metadata": {
    "collapsed": true
   },
   "source": [
    "# War for Pitchers\n"
   ]
  },
  {
   "cell_type": "code",
   "execution_count": null,
   "metadata": {},
   "outputs": [],
   "source": [
    "pit = pit.loc[pit['yearID']>=1998] \n",
    "pit = pit.loc[pit['IPouts']>=1] "
   ]
  },
  {
   "cell_type": "markdown",
   "metadata": {
    "collapsed": true
   },
   "source": [
    "## Feature Engineering\n",
    "### Create Innings Pitched and 9 Innings Pitched"
   ]
  },
  {
   "cell_type": "code",
   "execution_count": 14,
   "metadata": {
    "collapsed": true
   },
   "outputs": [],
   "source": [
    "p_data=pit\n",
    "p_data['IP']=p_data['IPouts']/3\n",
    "p_data['9IP']=p_data['IP']/9\n",
    "pitc=p_data.groupby('yearID', as_index=False).agg({\"ERA\": \"mean\",\"HR\":\"sum\",\"BB\":\"sum\",\"HBP\":\"sum\",\"SO\":\"sum\",\"IP\":\"sum\",\"R\":\"sum\",\"9IP\":\"sum\"})"
   ]
  },
  {
   "cell_type": "markdown",
   "metadata": {
    "collapsed": true,
    "scrolled": true
   },
   "source": [
    "### Adjusting to a 9 inning game"
   ]
  },
  {
   "cell_type": "code",
   "execution_count": 15,
   "metadata": {
    "collapsed": true,
    "scrolled": true
   },
   "outputs": [],
   "source": [
    "pitc.columns=['yearID','lgERA','lgHR','lgBB','lgHBP','lgK','lgIP','lgR','lg9IP']\n",
    "pitc['RA9']=pitc['lgR']/pitc['lg9IP']\n",
    "pitc['adj']=pitc['RA9']-pitc['lgERA']"
   ]
  },
  {
   "cell_type": "markdown",
   "metadata": {
    "collapsed": true
   },
   "source": [
    "## FIP(Feilding independent pitching)"
   ]
  },
  {
   "cell_type": "code",
   "execution_count": 16,
   "metadata": {
    "collapsed": true
   },
   "outputs": [],
   "source": [
    "p_data=pd.merge(p_data,pitc, on=['yearID'])\n",
    "p_data['FIPcons']=p_data['lgERA']-(((13*p_data['lgHR'])+(3*(p_data['lgBB']+p_data['lgHBP']))-(2*p_data['lgK']))/p_data['lgIP'])\n",
    "p_data['topifFIP']=((13*p_data['HR'])+(3*(p_data['BB']+p_data['HBP']))-(2*p_data['SO']))\n",
    "p_data['botifFIP']=p_data['IP']\n",
    "p_data['ifFIP']=(p_data['topifFIP']/p_data['botifFIP'])+p_data['FIPcons']\n",
    "p_data['FIPr9']=p_data['ifFIP']+p_data['adj']"
   ]
  },
  {
   "cell_type": "markdown",
   "metadata": {
    "collapsed": true
   },
   "source": [
    "### Park Adj"
   ]
  },
  {
   "cell_type": "code",
   "execution_count": 17,
   "metadata": {
    "collapsed": true
   },
   "outputs": [],
   "source": [
    "p_data = pd.merge(p_data,pf1, on=['yearID','teamID'])\n",
    "p_data['PF'] = p_data['Basic']*.01\n",
    "p_data['pFIPr9']=p_data['FIPr9']/(p_data['Basic']/100)"
   ]
  },
  {
   "cell_type": "markdown",
   "metadata": {
    "collapsed": true
   },
   "source": [
    "### League adj"
   ]
  },
  {
   "cell_type": "code",
   "execution_count": 18,
   "metadata": {
    "collapsed": true
   },
   "outputs": [],
   "source": [
    "league = p_data.groupby(('yearID','lgID'), as_index=False).agg({\"FIPr9\": \"mean\"})\n",
    "league.columns = ['yearID','lgID','lgFIPr9']\n",
    "p_data = pd.merge(p_data,league, on=['yearID','lgID'])\n",
    "p_data['RAAP9'] = p_data['lgFIPr9']-p_data['pFIPr9']\n",
    "p_data['dRPW'] = (((((18-(p_data['IP']/p_data['G']))*(p_data['lgFIPr9']))+((p_data['IP']/p_data['G'])*p_data['pFIPr9']))/18)+2)*1.5\n",
    "p_data['WPGAA'] = p_data['RAAP9']/p_data['dRPW']\n",
    "p_data = p_data.sort_values(by= ['WPGAA'], ascending=False)"
   ]
  },
  {
   "cell_type": "markdown",
   "metadata": {
    "collapsed": true
   },
   "source": [
    "## Replacement level "
   ]
  },
  {
   "cell_type": "code",
   "execution_count": null,
   "metadata": {},
   "outputs": [],
   "source": [
    "p_data['rep_lev'] = .03*(1-(p_data['GS']/p_data['G']))+.12*(p_data['GS']/p_data['G'])\n",
    "p_data['WPGAR'] = p_data['WPGAA']+p_data['rep_lev']\n",
    "p_data['WAR']=p_data['WPGAR']*(p_data['IP']/9)\n",
    "p_data = p_data.sort_values(by= ['WAR'], ascending=False)"
   ]
  },
  {
   "cell_type": "markdown",
   "metadata": {
    "collapsed": true
   },
   "source": [
    "* Adjust based on higher stakes, dont have LI\n"
   ]
  },
  {
   "cell_type": "markdown",
   "metadata": {
    "collapsed": true
   },
   "source": [
    "##  Pitcher WAR"
   ]
  },
  {
   "cell_type": "code",
   "execution_count": null,
   "metadata": {},
   "outputs": [],
   "source": [
    "pWAR=p_data[['playerID','yearID','teamID','lgID','WAR']]"
   ]
  },
  {
   "cell_type": "markdown",
   "metadata": {},
   "source": [
    "# WAR for all Players"
   ]
  },
  {
   "cell_type": "code",
   "execution_count": 20,
   "metadata": {
    "collapsed": true
   },
   "outputs": [],
   "source": [
    "WAR=pd.concat([WAR,pWAR], ignore_index=True)"
   ]
  },
  {
   "cell_type": "markdown",
   "metadata": {},
   "source": [
    "## Regression for War and Actual Team Wins"
   ]
  },
  {
   "cell_type": "code",
   "execution_count": 21,
   "metadata": {},
   "outputs": [
    {
     "name": "stdout",
     "output_type": "stream",
     "text": [
      "                            OLS Regression Results                            \n",
      "==============================================================================\n",
      "Dep. Variable:                      W   R-squared:                       0.580\n",
      "Model:                            OLS   Adj. R-squared:                  0.579\n",
      "Method:                 Least Squares   F-statistic:                     742.1\n",
      "Date:                Thu, 12 Apr 2018   Prob (F-statistic):          2.83e-103\n",
      "Time:                        12:23:54   Log-Likelihood:                -1852.3\n",
      "No. Observations:                 539   AIC:                             3709.\n",
      "Df Residuals:                     537   BIC:                             3717.\n",
      "Df Model:                           1                                         \n",
      "Covariance Type:            nonrobust                                         \n",
      "==============================================================================\n",
      "                 coef    std err          t      P>|t|      [0.025      0.975]\n",
      "------------------------------------------------------------------------------\n",
      "Intercept     64.5108      0.685     94.148      0.000      63.165      65.857\n",
      "WAR            0.6826      0.025     27.241      0.000       0.633       0.732\n",
      "==============================================================================\n",
      "Omnibus:                        0.695   Durbin-Watson:                   1.950\n",
      "Prob(Omnibus):                  0.706   Jarque-Bera (JB):                0.799\n",
      "Skew:                           0.056   Prob(JB):                        0.671\n",
      "Kurtosis:                       2.848   Cond. No.                         57.8\n",
      "==============================================================================\n",
      "\n",
      "Warnings:\n",
      "[1] Standard Errors assume that the covariance matrix of the errors is correctly specified.\n"
     ]
    },
    {
     "data": {
      "image/png": "[encoded data removed]",
      "text/plain": [
       "<matplotlib.figure.Figure at 0x154df6d74e0>"
      ]
     },
     "metadata": {},
     "output_type": "display_data"
    },
    {
     "data": {
      "image/png": "[encoded data removed]",
      "text/plain": [
       "<matplotlib.figure.Figure at 0x154db7d8668>"
      ]
     },
     "metadata": {},
     "output_type": "display_data"
    }
   ],
   "source": [
    "dat = WAR.groupby(('yearID','teamID'), as_index=False).agg({\"WAR\":\"sum\",})\n",
    "teams = teams[['yearID','teamID','lgID','W','L','divID']]\n",
    "\n",
    "regr = pd.merge(dat, teams, on=['yearID','teamID'])\n",
    "model = smf.ols(formula='W ~ WAR' ,data=regr).fit()\n",
    "print(model.summary())\n",
    "x=\"WAR\"\n",
    "y=\"W\"\n",
    "regr.plot(kind = \"scatter\", x=x, y=y)\n",
    "type(plt)\n",
    "#plt.show()\n",
    "\n",
    "fig = plt.figure(figsize=(12,8))\n",
    "fig = sm.graphics.plot_regress_exog(model, \"WAR\", fig=fig)\n",
    "#plt.show()"
   ]
  },
  {
   "cell_type": "markdown",
   "metadata": {
    "collapsed": true
   },
   "source": [
    "![BARRY BONDS](https://media.giphy.com/media/WgZD3hluyopC8/giphy.gif)"
   ]
  }
 ],
 "metadata": {
  "kernelspec": {
   "display_name": "Python 3",
   "language": "python",
   "name": "python3"
  },
  "language_info": {
   "codemirror_mode": {
    "name": "ipython",
    "version": 3
   },
   "file_extension": ".py",
   "mimetype": "text/x-python",
   "name": "python",
   "nbconvert_exporter": "python",
   "pygments_lexer": "ipython3",
   "version": "3.6.8"
  },
  "toc": {
   "base_numbering": 1,
   "nav_menu": {},
   "number_sections": true,
   "sideBar": true,
   "skip_h1_title": false,
   "title_cell": "Table of Contents",
   "title_sidebar": "Contents",
   "toc_cell": false,
   "toc_position": {},
   "toc_section_display": true,
   "toc_window_display": false
  },
  "varInspector": {
   "cols": {
    "lenName": 16,
    "lenType": 16,
    "lenVar": 40
   },
   "kernels_config": {
    "python": {
     "delete_cmd_postfix": "",
     "delete_cmd_prefix": "del ",
     "library": "var_list.py",
     "varRefreshCmd": "print(var_dic_list())"
    },
    "r": {
     "delete_cmd_postfix": ") ",
     "delete_cmd_prefix": "rm(",
     "library": "var_list.r",
     "varRefreshCmd": "cat(var_dic_list()) "
    }
   },
   "types_to_exclude": [
    "module",
    "function",
    "builtin_function_or_method",
    "instance",
    "_Feature"
   ],
   "window_display": false
  }
 },
 "nbformat": 4,
 "nbformat_minor": 2
}
